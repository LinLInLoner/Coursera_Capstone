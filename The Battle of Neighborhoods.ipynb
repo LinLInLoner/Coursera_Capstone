{
 "cells": [
  {
   "cell_type": "markdown",
   "metadata": {},
   "source": [
    "# The Battle of Neighborhoods"
   ]
  },
  {
   "cell_type": "markdown",
   "metadata": {},
   "source": [
    "**Obesity Rate vs Restaurants and Gyms**  \n",
    "Would the types of restaurants and the number of gyms affect the obesity rate of a city?"
   ]
  },
  {
   "cell_type": "markdown",
   "metadata": {},
   "source": [
    "### Introduction/Business Problem\n",
    "\n",
    "Obesity has become a threat to people and our society. The diseases result from obesity like cardiovascular diseases, type 2 diabetes, obstructive sleep apnea, cancer, osteoarthritis or depression can put pressure on not only individuals but also the health care or medical system of the government.  \n",
    "The causes of obesity may result from different factors, for example, environment, lifestyle or habit. Here I want to examine whether the types of restaurants and the number of gyms affect the obesity rate of the given area.  \n",
    "If we can identify there is a relationship between obesity, restaurants, and gyms, the government might have the chance to decrease the obesity rate by proposing some healthier eating style to people or setting up more gyms for people to exercise."
   ]
  },
  {
   "cell_type": "markdown",
   "metadata": {},
   "source": [
    "### Data\n",
    "\n",
    "First, I will obtain the state and place name, obesity rate, confidence interval of obesity rate, and location data of 500 cities in the USA from the following link: https://catalog.data.gov/dataset/500-cities-city-level-data-gis-friendly-format-845f9.  "
   ]
  },
  {
   "cell_type": "code",
   "execution_count": 8,
   "metadata": {},
   "outputs": [
    {
     "data": {
      "text/html": [
       "<div>\n",
       "<style scoped>\n",
       "    .dataframe tbody tr th:only-of-type {\n",
       "        vertical-align: middle;\n",
       "    }\n",
       "\n",
       "    .dataframe tbody tr th {\n",
       "        vertical-align: top;\n",
       "    }\n",
       "\n",
       "    .dataframe thead th {\n",
       "        text-align: right;\n",
       "    }\n",
       "</style>\n",
       "<table border=\"1\" class=\"dataframe\">\n",
       "  <thead>\n",
       "    <tr style=\"text-align: right;\">\n",
       "      <th></th>\n",
       "      <th>State</th>\n",
       "      <th>PlaceName</th>\n",
       "      <th>Obesity</th>\n",
       "      <th>Obesity95CI</th>\n",
       "      <th>Geolocation</th>\n",
       "    </tr>\n",
       "  </thead>\n",
       "  <tbody>\n",
       "    <tr>\n",
       "      <th>0</th>\n",
       "      <td>CA</td>\n",
       "      <td>Folsom</td>\n",
       "      <td>23.1</td>\n",
       "      <td>(22.7, 23.4)</td>\n",
       "      <td>(38.67504943280, -121.147605753)</td>\n",
       "    </tr>\n",
       "    <tr>\n",
       "      <th>1</th>\n",
       "      <td>FL</td>\n",
       "      <td>Largo</td>\n",
       "      <td>28.8</td>\n",
       "      <td>(28.6, 29.1)</td>\n",
       "      <td>(27.90909077340, -82.7714203383)</td>\n",
       "    </tr>\n",
       "    <tr>\n",
       "      <th>2</th>\n",
       "      <td>CA</td>\n",
       "      <td>Berkeley</td>\n",
       "      <td>20.6</td>\n",
       "      <td>(20.5, 20.8)</td>\n",
       "      <td>(37.87256787650, -122.274907975)</td>\n",
       "    </tr>\n",
       "    <tr>\n",
       "      <th>3</th>\n",
       "      <td>CA</td>\n",
       "      <td>Napa</td>\n",
       "      <td>24.0</td>\n",
       "      <td>(23.8, 24.3)</td>\n",
       "      <td>(38.29804246490, -122.301093331)</td>\n",
       "    </tr>\n",
       "    <tr>\n",
       "      <th>4</th>\n",
       "      <td>FL</td>\n",
       "      <td>Sunrise</td>\n",
       "      <td>28.2</td>\n",
       "      <td>(28.0, 28.5)</td>\n",
       "      <td>(26.15468783030, -80.2998411020)</td>\n",
       "    </tr>\n",
       "  </tbody>\n",
       "</table>\n",
       "</div>"
      ],
      "text/plain": [
       "  State PlaceName  Obesity   Obesity95CI                       Geolocation\n",
       "0    CA    Folsom     23.1  (22.7, 23.4)  (38.67504943280, -121.147605753)\n",
       "1    FL     Largo     28.8  (28.6, 29.1)  (27.90909077340, -82.7714203383)\n",
       "2    CA  Berkeley     20.6  (20.5, 20.8)  (37.87256787650, -122.274907975)\n",
       "3    CA      Napa     24.0  (23.8, 24.3)  (38.29804246490, -122.301093331)\n",
       "4    FL   Sunrise     28.2  (28.0, 28.5)  (26.15468783030, -80.2998411020)"
      ]
     },
     "execution_count": 8,
     "metadata": {},
     "output_type": "execute_result"
    }
   ],
   "source": [
    "import pandas as pd\n",
    "df = pd.read_csv('https://data.cdc.gov/api/views/dxpw-cm5u/rows.csv?accessType=DOWNLOAD')\n",
    "df = df[['StateAbbr', 'PlaceName', 'OBESITY_AdjPrev', 'OBESITY_Adj95CI', 'Geolocation']]\n",
    "df.columns = ['State', 'PlaceName', 'Obesity', 'Obesity95CI', 'Geolocation']\n",
    "df.head()"
   ]
  },
  {
   "cell_type": "markdown",
   "metadata": {},
   "source": [
    "Second, I will use Foursquare location data to find out the restaurants and gyms of 500 cities mentioned above. By comparing the number of different types of restaurant and places where people can go to exercise to the obesity rate, we can find out whether the environment has an impact on the obesity rate. For example, does the city with more fast food restaurants and few gyms or parks has a higher obesity rate?"
   ]
  },
  {
   "cell_type": "code",
   "execution_count": null,
   "metadata": {},
   "outputs": [],
   "source": []
  }
 ],
 "metadata": {
  "kernelspec": {
   "display_name": "Python 3",
   "language": "python",
   "name": "python3"
  },
  "language_info": {
   "codemirror_mode": {
    "name": "ipython",
    "version": 3
   },
   "file_extension": ".py",
   "mimetype": "text/x-python",
   "name": "python",
   "nbconvert_exporter": "python",
   "pygments_lexer": "ipython3",
   "version": "3.6.8"
  }
 },
 "nbformat": 4,
 "nbformat_minor": 2
}
