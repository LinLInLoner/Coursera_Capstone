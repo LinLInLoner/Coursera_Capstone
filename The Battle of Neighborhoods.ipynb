{
 "cells": [
  {
   "cell_type": "markdown",
   "metadata": {},
   "source": [
    "# The Battle of Neighborhoods"
   ]
  },
  {
   "cell_type": "markdown",
   "metadata": {},
   "source": [
    "Obesity Rate vs Restaurants and Gyms  \n",
    "Would the types of restaurants and the number of gyms affect the obesity rate of a "
   ]
  },
  {
   "cell_type": "markdown",
   "metadata": {},
   "source": [
    "### Introduction/Business Problem\n",
    "\n",
    "Obesity has become a threat to people and our society. The diseases result from obesity like cardiovascular diseases, type 2 diabetes, obstructive sleep apnea, cancer, osteoarthritis or depression can put pressure on not only individuals but also the health care or medical system of the government.  \n",
    "The causes of obesity may result from different factors, for example, environment, lifestyle or habit. Here I want to examine whether the types of restaurants and the number of gyms affect the obesity rate of the given area.  \n",
    "If we can identify there is a relationship between obesity, restaurants, and gyms, the government might have the chance to decrease the obesity rate by proposing some healthier eating style to people or setting up more gyms for people to exercise."
   ]
  },
  {
   "cell_type": "markdown",
   "metadata": {},
   "source": [
    "### Data\n",
    "\n",
    "First, I will obtain the obesity rate data of 500 cities in the USA from the following link: https://catalog.data.gov/dataset/500-cities-city-level-data-gis-friendly-format-845f9.  \n",
    "Second, I will use Foursquare location data to find out the restaurants and gyms of 500 cities mentioned above. By comparing the number of different types of restaurant and places where people can go to exercise to the obesity rate, we can find out whether the environment has an impact on the obesity rate. For example, does the city with more fast food restaurants and few gyms or parks has a higher obesity rate?"
   ]
  },
  {
   "cell_type": "code",
   "execution_count": null,
   "metadata": {},
   "outputs": [],
   "source": []
  }
 ],
 "metadata": {
  "kernelspec": {
   "display_name": "Python 3",
   "language": "python",
   "name": "python3"
  },
  "language_info": {
   "codemirror_mode": {
    "name": "ipython",
    "version": 3
   },
   "file_extension": ".py",
   "mimetype": "text/x-python",
   "name": "python",
   "nbconvert_exporter": "python",
   "pygments_lexer": "ipython3",
   "version": "3.6.8"
  }
 },
 "nbformat": 4,
 "nbformat_minor": 2
}
